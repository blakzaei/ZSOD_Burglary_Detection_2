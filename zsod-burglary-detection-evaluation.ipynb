{
 "cells": [
  {
   "cell_type": "code",
   "execution_count": 1,
   "id": "3d5fabc1",
   "metadata": {
    "_cell_guid": "b1076dfc-b9ad-4769-8c92-a6c4dae69d19",
    "_uuid": "8f2839f25d086af736a60e9eeb907d3b93b6e0e5",
    "execution": {
     "iopub.execute_input": "2025-01-10T15:00:06.584477Z",
     "iopub.status.busy": "2025-01-10T15:00:06.584093Z",
     "iopub.status.idle": "2025-01-10T15:00:08.433158Z",
     "shell.execute_reply": "2025-01-10T15:00:08.432171Z"
    },
    "papermill": {
     "duration": 1.854713,
     "end_time": "2025-01-10T15:00:08.435064",
     "exception": false,
     "start_time": "2025-01-10T15:00:06.580351",
     "status": "completed"
    },
    "tags": []
   },
   "outputs": [],
   "source": [
    "#-- Import Libraries ------------------------------------------------------------------------------------------\n",
    "import pandas as pd\n",
    "from sklearn.metrics import confusion_matrix, ConfusionMatrixDisplay\n",
    "import matplotlib.pyplot as plt\n",
    "from sklearn.metrics import accuracy_score, precision_score, recall_score\n",
    "import ast\n",
    "#--------------------------------------------------------------------------------------------------------------"
   ]
  },
  {
   "cell_type": "code",
   "execution_count": 2,
   "id": "c3f06712",
   "metadata": {
    "execution": {
     "iopub.execute_input": "2025-01-10T15:00:08.441583Z",
     "iopub.status.busy": "2025-01-10T15:00:08.441071Z",
     "iopub.status.idle": "2025-01-10T15:00:08.463094Z",
     "shell.execute_reply": "2025-01-10T15:00:08.461929Z"
    },
    "papermill": {
     "duration": 0.026859,
     "end_time": "2025-01-10T15:00:08.464825",
     "exception": false,
     "start_time": "2025-01-10T15:00:08.437966",
     "status": "completed"
    },
    "tags": []
   },
   "outputs": [
    {
     "name": "stdout",
     "output_type": "stream",
     "text": [
      "(68, 5)\n"
     ]
    }
   ],
   "source": [
    "#-- Load Results ----------------------------------------------------------------------------------------------\n",
    "results_file_path = \"/kaggle/input/novin-zsod-burglary-detection-5/results.csv\"  \n",
    "df_results = pd.read_csv(results_file_path)\n",
    "\n",
    "print(df_results.shape)\n",
    "#--------------------------------------------------------------------------------------------------------------"
   ]
  },
  {
   "cell_type": "code",
   "execution_count": 3,
   "id": "19a24a43",
   "metadata": {
    "execution": {
     "iopub.execute_input": "2025-01-10T15:00:08.470456Z",
     "iopub.status.busy": "2025-01-10T15:00:08.470132Z",
     "iopub.status.idle": "2025-01-10T15:00:08.486966Z",
     "shell.execute_reply": "2025-01-10T15:00:08.485940Z"
    },
    "papermill": {
     "duration": 0.021523,
     "end_time": "2025-01-10T15:00:08.488770",
     "exception": false,
     "start_time": "2025-01-10T15:00:08.467247",
     "status": "completed"
    },
    "tags": []
   },
   "outputs": [],
   "source": [
    "#-- Map text labels to integers -------------------------------------------------------------------------------\n",
    "label_mapping = {'burglary': 1, 'not burglary': 0}\n",
    "df_results['true_label_mapped'] =df_results['true_label'].map(label_mapping)\n",
    "df_results['predicted_label_mapped'] = df_results['predicted_label'].map(label_mapping)\n",
    "\n",
    "# print(df_results)\n",
    "#--------------------------------------------------------------------------------------------------------------"
   ]
  },
  {
   "cell_type": "code",
   "execution_count": 4,
   "id": "16af606a",
   "metadata": {
    "execution": {
     "iopub.execute_input": "2025-01-10T15:00:08.494697Z",
     "iopub.status.busy": "2025-01-10T15:00:08.494363Z",
     "iopub.status.idle": "2025-01-10T15:00:08.881576Z",
     "shell.execute_reply": "2025-01-10T15:00:08.880620Z"
    },
    "papermill": {
     "duration": 0.39223,
     "end_time": "2025-01-10T15:00:08.883468",
     "exception": false,
     "start_time": "2025-01-10T15:00:08.491238",
     "status": "completed"
    },
    "tags": []
   },
   "outputs": [
    {
     "data": {
      "image/png": "[encoded data removed]",
      "text/plain": [
       "<Figure size 600x600 with 2 Axes>"
      ]
     },
     "metadata": {},
     "output_type": "display_data"
    }
   ],
   "source": [
    "#-- Create and Display the confusion matrix --------------------------------------------------------------------\n",
    "cm = confusion_matrix(df_results['true_label_mapped'], df_results['predicted_label_mapped'])\n",
    "\n",
    "fig, ax = plt.subplots(figsize=(6, 6))\n",
    "disp = ConfusionMatrixDisplay(confusion_matrix=cm, display_labels=['not burglary' , 'burglary'])\n",
    "disp.plot(cmap=plt.cm.Blues, ax=ax)\n",
    "plt.title(\"Confusion Matrix\", fontsize=16)\n",
    "ax.set_xlabel('')\n",
    "ax.xaxis.set_label_position('top')  \n",
    "ax.set_xticks(ax.get_xticks())  \n",
    "ax.set_xlabel('Predicted Label', fontsize=14)  \n",
    "if disp.text_ is not None:  \n",
    "    for text in disp.text_.ravel():  \n",
    "        if text:  \n",
    "            text.set_fontsize(24)  \n",
    "plt.tight_layout()\n",
    "plt.show()\n",
    "#--------------------------------------------------------------------------------------------------------------"
   ]
  },
  {
   "cell_type": "code",
   "execution_count": 5,
   "id": "0e507806",
   "metadata": {
    "execution": {
     "iopub.execute_input": "2025-01-10T15:00:08.890316Z",
     "iopub.status.busy": "2025-01-10T15:00:08.889966Z",
     "iopub.status.idle": "2025-01-10T15:00:08.902146Z",
     "shell.execute_reply": "2025-01-10T15:00:08.901164Z"
    },
    "papermill": {
     "duration": 0.017375,
     "end_time": "2025-01-10T15:00:08.903774",
     "exception": false,
     "start_time": "2025-01-10T15:00:08.886399",
     "status": "completed"
    },
    "tags": []
   },
   "outputs": [
    {
     "name": "stdout",
     "output_type": "stream",
     "text": [
      "Accuracy: 0.76\n",
      "Precision: 0.88\n",
      "Recall: 0.62\n"
     ]
    }
   ],
   "source": [
    "#-- Caclyate Evaluation Matrics -------------------------------------------------------------------------------\n",
    "accuracy = accuracy_score(df_results['true_label_mapped'], df_results['predicted_label_mapped'])\n",
    "precision = precision_score(df_results['true_label_mapped'], df_results['predicted_label_mapped'])\n",
    "recall = recall_score(df_results['true_label_mapped'], df_results['predicted_label_mapped'])\n",
    "\n",
    "print(f\"Accuracy: {accuracy:.2f}\\nPrecision: {precision:.2f}\\nRecall: {recall:.2f}\")\n",
    "#--------------------------------------------------------------------------------------------------------------"
   ]
  },
  {
   "cell_type": "code",
   "execution_count": 6,
   "id": "6e583cb6",
   "metadata": {
    "execution": {
     "iopub.execute_input": "2025-01-10T15:00:08.910563Z",
     "iopub.status.busy": "2025-01-10T15:00:08.910272Z",
     "iopub.status.idle": "2025-01-10T15:00:08.921722Z",
     "shell.execute_reply": "2025-01-10T15:00:08.920640Z"
    },
    "papermill": {
     "duration": 0.017004,
     "end_time": "2025-01-10T15:00:08.923758",
     "exception": false,
     "start_time": "2025-01-10T15:00:08.906754",
     "status": "completed"
    },
    "tags": []
   },
   "outputs": [
    {
     "name": "stdout",
     "output_type": "stream",
     "text": [
      "TP: 21\n",
      "TN: 31\n",
      "FP: 3\n",
      "FN: 13\n"
     ]
    }
   ],
   "source": [
    "#-- Calculate TP, TN, FP, and FN ----------------------------------------------------------------------------\n",
    "TP = df_results[(df_results['true_label'] == 'burglary') & (df_results['predicted_label'] == 'burglary')]\n",
    "TP_count = len(TP) \n",
    "\n",
    "TN = df_results[(df_results['true_label'] == 'not burglary') & (df_results['predicted_label'] == 'not burglary')]\n",
    "TN_count = len(TN)  \n",
    "\n",
    "FP = df_results[(df_results['true_label'] == 'not burglary') & (df_results['predicted_label'] == 'burglary')]\n",
    "FP_count = len(FP)  \n",
    "\n",
    "FN = df_results[(df_results['true_label'] == 'burglary') & (df_results['predicted_label'] == 'not burglary')]\n",
    "FN_count = len(FN)  \n",
    "\n",
    "print(f'TP: {TP_count}\\nTN: {TN_count}\\nFP: {FP_count}\\nFN: {FN_count}')\n",
    "\n",
    "#--------------------------------------------------------------------------------------------------------------"
   ]
  },
  {
   "cell_type": "code",
   "execution_count": 7,
   "id": "bb348eac",
   "metadata": {
    "execution": {
     "iopub.execute_input": "2025-01-10T15:00:08.930810Z",
     "iopub.status.busy": "2025-01-10T15:00:08.930490Z",
     "iopub.status.idle": "2025-01-10T15:00:08.947799Z",
     "shell.execute_reply": "2025-01-10T15:00:08.946583Z"
    },
    "papermill": {
     "duration": 0.022963,
     "end_time": "2025-01-10T15:00:08.949850",
     "exception": false,
     "start_time": "2025-01-10T15:00:08.926887",
     "status": "completed"
    },
    "tags": []
   },
   "outputs": [
    {
     "name": "stdout",
     "output_type": "stream",
     "text": [
      "\n",
      "\n",
      "\n",
      "=== burglary_10.mp4 - threshold = 108 ==========================\n",
      "Person wearing a mask and avoiding detection : 55\n",
      "Person climbing a wall : 13\n",
      "Person carrying tools like a crowbar : 52\n",
      "Person jumping out of a window : 1\n",
      "Person tampering with a security camera : 5\n",
      "\n",
      "\n",
      "\n",
      "=== burglary_12.mp4 - threshold = 41 ==========================\n",
      "Person climbing a wall : 30\n",
      "Person carrying tools like a crowbar : 1\n",
      "\n",
      "\n",
      "\n",
      "=== burglary_13.mp4 - threshold = 257 ==========================\n",
      "Person climbing a wall : 1\n",
      "Person wearing a mask and avoiding detection : 1\n",
      "Person carrying tools like a crowbar : 46\n",
      "\n",
      "\n",
      "\n",
      "=== burglary_16.mp4 - threshold = 277 ==========================\n",
      "Person carrying tools like a crowbar : 42\n",
      "\n",
      "\n",
      "\n",
      "=== burglary_17.mp4 - threshold = 153 ==========================\n",
      "Person trying to pick a lock : 13\n",
      "Person running away from a building : 1\n",
      "Person carrying tools like a crowbar : 29\n",
      "Person tampering with a security camera : 5\n",
      "Person wearing a mask and avoiding detection : 50\n",
      "Person climbing a wall : 3\n",
      "Person hiding behind an object : 1\n",
      "\n",
      "\n",
      "\n",
      "=== burglary_20.mp4 - threshold = 62 ==========================\n",
      "Person carrying tools like a crowbar : 1\n",
      "\n",
      "\n",
      "\n",
      "=== burglary_21.mp4 - threshold = 588 ==========================\n",
      "\n",
      "\n",
      "\n",
      "=== burglary_23.mp4 - threshold = 324 ==========================\n",
      "Person wearing a mask and avoiding detection : 16\n",
      "Person climbing a wall : 96\n",
      "Person jumping out of a window : 29\n",
      "Person breaking a window with an object : 6\n",
      "Person carrying tools like a crowbar : 5\n",
      "Person running away from a building : 2\n",
      "Person hiding behind an object : 8\n",
      "Person forcing a door open with strength : 2\n",
      "Person breaking a lock with tools : 1\n",
      "\n",
      "\n",
      "\n",
      "=== burglary_24.mp4 - threshold = 603 ==========================\n",
      "Person climbing a wall : 10\n",
      "Person jumping out of a window : 2\n",
      "Person wearing a mask and avoiding detection : 5\n",
      "\n",
      "\n",
      "\n",
      "=== burglary_28.mp4 - threshold = 941 ==========================\n",
      "Person running away from a building : 2\n",
      "Person wearing a mask and avoiding detection : 138\n",
      "Person carrying tools like a crowbar : 28\n",
      "Person climbing a wall : 54\n",
      "Person climbing over a fence : 8\n",
      "Person jumping out of a window : 11\n",
      "\n",
      "\n",
      "\n",
      "=== burglary_7.mp4 - threshold = 157 ==========================\n",
      "Person wearing a mask and avoiding detection : 72\n",
      "Person jumping out of a window : 8\n",
      "Person tampering with a security camera : 4\n",
      "Person hiding behind an object : 62\n",
      "Person climbing a wall : 7\n",
      "\n",
      "\n",
      "\n",
      "=== burglary_8.mp4 - threshold = 288 ==========================\n",
      "Person climbing a wall : 143\n",
      "Person carrying tools like a crowbar : 8\n",
      "Person climbing over a fence : 8\n",
      "Person jumping out of a window : 5\n",
      "\n",
      "\n",
      "\n",
      "=== burglary_9.mp4 - threshold = 588 ==========================\n",
      "Person carrying tools like a crowbar : 41\n",
      "Person climbing over a fence : 3\n",
      "Person climbing a wall : 109\n",
      "Person jumping out of a window : 16\n",
      "Person wearing a mask and avoiding detection : 38\n",
      "Person running away from a building : 9\n",
      "Person breaking a window with an object : 65\n"
     ]
    }
   ],
   "source": [
    "for index, row in FN.iterrows():\n",
    "    video_name = row['video_file']\n",
    "    threshold = row['burglary_threshold']\n",
    "    all_detected_prompts = ast.literal_eval(row['all_detected_prompts'])\n",
    "    \n",
    "    print(f'\\n\\n\\n=== {video_name} - threshold = {threshold} ==========================')\n",
    "    for (p,n) in all_detected_prompts:\n",
    "        print(f'{p} : {n}')\n",
    "    \n",
    "   "
   ]
  }
 ],
 "metadata": {
  "kaggle": {
   "accelerator": "none",
   "dataSources": [
    {
     "sourceId": 216621860,
     "sourceType": "kernelVersion"
    }
   ],
   "dockerImageVersionId": 30822,
   "isGpuEnabled": false,
   "isInternetEnabled": true,
   "language": "python",
   "sourceType": "notebook"
  },
  "kernelspec": {
   "display_name": "Python 3",
   "language": "python",
   "name": "python3"
  },
  "language_info": {
   "codemirror_mode": {
    "name": "ipython",
    "version": 3
   },
   "file_extension": ".py",
   "mimetype": "text/x-python",
   "name": "python",
   "nbconvert_exporter": "python",
   "pygments_lexer": "ipython3",
   "version": "3.10.12"
  },
  "papermill": {
   "default_parameters": {},
   "duration": 5.001014,
   "end_time": "2025-01-10T15:00:09.572802",
   "environment_variables": {},
   "exception": null,
   "input_path": "__notebook__.ipynb",
   "output_path": "__notebook__.ipynb",
   "parameters": {},
   "start_time": "2025-01-10T15:00:04.571788",
   "version": "2.6.0"
  }
 },
 "nbformat": 4,
 "nbformat_minor": 5
}
